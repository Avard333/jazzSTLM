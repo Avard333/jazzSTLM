{
  "nbformat": 4,
  "nbformat_minor": 0,
  "metadata": {
    "colab": {
      "name": "jazzSTLM.ipynb",
      "provenance": []
    },
    "kernelspec": {
      "name": "python3",
      "display_name": "Python 3"
    },
    "language_info": {
      "name": "python"
    },
    "accelerator": "TPU"
  },
  "cells": [
    {
      "cell_type": "code",
      "metadata": {
        "colab": {
          "base_uri": "https://localhost:8080/"
        },
        "id": "KAs-kPXcy9RS",
        "outputId": "f468edc4-dc33-44f7-b4f4-0ac3c0f9d0e7"
      },
      "source": [
        "from google.colab import drive\n",
        "drive.mount('/content/drive')"
      ],
      "execution_count": null,
      "outputs": [
        {
          "output_type": "stream",
          "name": "stdout",
          "text": [
            "Mounted at /content/drive\n"
          ]
        }
      ]
    },
    {
      "cell_type": "code",
      "metadata": {
        "id": "Bti8vl6WqqdX"
      },
      "source": [
        "from music21 import *\n",
        "\n",
        "\n",
        "def read_midi(file):\n",
        "    \n",
        "    print(\"Loading Music File:\",file)\n",
        "    \n",
        "    notes=[]\n",
        "    notes_to_parse = None\n",
        "    \n",
        "    #parsing a midi file\n",
        "    midi = converter.parse(file)\n",
        "  \n",
        "    #grouping based on different instruments\n",
        "    s2 = instrument.partitionByInstrument(midi)\n",
        "\n",
        "    #Looping over all the instruments\n",
        "    for part in s2.parts:\n",
        "    \n",
        "        #select elements of only piano\n",
        "        if 'Piano' in str(part): \n",
        "        \n",
        "            notes_to_parse = part.recurse() \n",
        "      \n",
        "            #finding whether a particular element is note or a chord\n",
        "            for element in notes_to_parse:\n",
        "                \n",
        "                #note\n",
        "                if isinstance(element, note.Note):\n",
        "                    notes.append(str(element.pitch))\n",
        "                \n",
        "                #chord\n",
        "                elif isinstance(element, chord.Chord):\n",
        "                    notes.append('.'.join(str(n) for n in element.normalOrder))\n",
        "\n",
        "    return np.array(notes)"
      ],
      "execution_count": null,
      "outputs": []
    },
    {
      "cell_type": "code",
      "metadata": {
        "colab": {
          "base_uri": "https://localhost:8080/"
        },
        "id": "Ser3vgEytk-t",
        "outputId": "e04e4f9a-4277-4979-92fb-8da08ec41408"
      },
      "source": [
        "import os\n",
        "\n",
        "\n",
        "import numpy as np\n",
        "\n",
        "path='/content/drive/MyDrive/jazzSTLM/midi/'\n",
        "\n",
        "\n",
        "files=[i for i in os.listdir(path) if i.endswith(\".mid\")]\n",
        "\n",
        "notes_array = np.array([read_midi(path+i) for i in files])"
      ],
      "execution_count": null,
      "outputs": [
        {
          "output_type": "stream",
          "name": "stdout",
          "text": [
            "Loading Music File: /content/drive/MyDrive/jazzSTLM/midi/Adayinalifeofafool.mid\n",
            "Loading Music File: /content/drive/MyDrive/jazzSTLM/midi/AllMyTomorrows.mid\n",
            "Loading Music File: /content/drive/MyDrive/jazzSTLM/midi/AllOfMe.mid\n",
            "Loading Music File: /content/drive/MyDrive/jazzSTLM/midi/AllofYou.mid\n",
            "Loading Music File: /content/drive/MyDrive/jazzSTLM/midi/AllOrNothingAtAll.mid\n",
            "Loading Music File: /content/drive/MyDrive/jazzSTLM/midi/AllTheThingsYouAre.mid\n",
            "Loading Music File: /content/drive/MyDrive/jazzSTLM/midi/AllTheWay.mid\n",
            "Loading Music File: /content/drive/MyDrive/jazzSTLM/midi/AngelEyes.mid\n",
            "Loading Music File: /content/drive/MyDrive/jazzSTLM/midi/AprilinParis.mid\n",
            "Loading Music File: /content/drive/MyDrive/jazzSTLM/midi/AutumninNewYork.mid\n",
            "Loading Music File: /content/drive/MyDrive/jazzSTLM/midi/AutumnLeaves.mid\n",
            "Loading Music File: /content/drive/MyDrive/jazzSTLM/midi/Bewitched.mid\n",
            "Loading Music File: /content/drive/MyDrive/jazzSTLM/midi/BlueRoom.mid\n",
            "Loading Music File: /content/drive/MyDrive/jazzSTLM/midi/BreezeAndI.mid\n",
            "Loading Music File: /content/drive/MyDrive/jazzSTLM/midi/ButBeautiful.mid\n",
            "Loading Music File: /content/drive/MyDrive/jazzSTLM/midi/ButNotForMe.mid\n",
            "Loading Music File: /content/drive/MyDrive/jazzSTLM/midi/Cestmagnifique.mid\n",
            "Loading Music File: /content/drive/MyDrive/jazzSTLM/midi/CheekToCheek.mid\n",
            "Loading Music File: /content/drive/MyDrive/jazzSTLM/midi/CloseToYou.mid\n",
            "Loading Music File: /content/drive/MyDrive/jazzSTLM/midi/DancingOnTheCeiling.mid\n",
            "Loading Music File: /content/drive/MyDrive/jazzSTLM/midi/DarnThatDream.mid\n",
            "Loading Music File: /content/drive/MyDrive/jazzSTLM/midi/DontTakeYourLoveFromMe.mid\n",
            "Loading Music File: /content/drive/MyDrive/jazzSTLM/midi/EastoftheSun.mid\n",
            "Loading Music File: /content/drive/MyDrive/jazzSTLM/midi/EasyToLove.mid\n",
            "Loading Music File: /content/drive/MyDrive/jazzSTLM/midi/EbbTide.mid\n",
            "Loading Music File: /content/drive/MyDrive/jazzSTLM/midi/FlyMeToTheMoon.mid\n",
            "Loading Music File: /content/drive/MyDrive/jazzSTLM/midi/FoggyDayinLondonTown.mid\n",
            "Loading Music File: /content/drive/MyDrive/jazzSTLM/midi/FoolsRushIn.mid\n",
            "Loading Music File: /content/drive/MyDrive/jazzSTLM/midi/ForHeavensSake.mid\n",
            "Loading Music File: /content/drive/MyDrive/jazzSTLM/midi/GettinSentimentalOverYou.mid\n",
            "Loading Music File: /content/drive/MyDrive/jazzSTLM/midi/GhostOfaChance.mid\n",
            "Loading Music File: /content/drive/MyDrive/jazzSTLM/midi/GirlFromIpanema.mid\n",
            "Loading Music File: /content/drive/MyDrive/jazzSTLM/midi/HeresThatRainyDayAgain.mid\n",
            "Loading Music File: /content/drive/MyDrive/jazzSTLM/midi/HowDoYouKeepTheMusicPlaying.mid\n",
            "Loading Music File: /content/drive/MyDrive/jazzSTLM/midi/HowHighTheMoon.mid\n",
            "Loading Music File: /content/drive/MyDrive/jazzSTLM/midi/IBelieve.mid\n",
            "Loading Music File: /content/drive/MyDrive/jazzSTLM/midi/IConcentrateOnYou.mid\n",
            "Loading Music File: /content/drive/MyDrive/jazzSTLM/midi/IGetaKickOutOfYou.mid\n",
            "Loading Music File: /content/drive/MyDrive/jazzSTLM/midi/IShouldCare.mid\n",
            "Loading Music File: /content/drive/MyDrive/jazzSTLM/midi/Iwontdance.mid\n",
            "Loading Music File: /content/drive/MyDrive/jazzSTLM/midi/IllBeSeeingYou.mid\n",
            "Loading Music File: /content/drive/MyDrive/jazzSTLM/midi/IllGetBy.mid\n",
            "Loading Music File: /content/drive/MyDrive/jazzSTLM/midi/IllNeverSmileAgain.mid\n",
            "Loading Music File: /content/drive/MyDrive/jazzSTLM/midi/ImAFoolToWantYou.mid\n",
            "Loading Music File: /content/drive/MyDrive/jazzSTLM/midi/ImGettingSentimentalOverYou.mid\n",
            "Loading Music File: /content/drive/MyDrive/jazzSTLM/midi/IveGotaCrushOnYou.mid\n",
            "Loading Music File: /content/drive/MyDrive/jazzSTLM/midi/IveHeardThatSongBefore.mid\n",
            "Loading Music File: /content/drive/MyDrive/jazzSTLM/midi/IllTakeManhattan.mid\n",
            "Loading Music File: /content/drive/MyDrive/jazzSTLM/midi/ImAFoolToWantYou (1).mid\n",
            "Loading Music File: /content/drive/MyDrive/jazzSTLM/midi/Invitation.mid\n",
            "Loading Music File: /content/drive/MyDrive/jazzSTLM/midi/ItHadToBeYou.mid\n",
            "Loading Music File: /content/drive/MyDrive/jazzSTLM/midi/ItWasAVeryGoodYear.mid\n",
            "Loading Music File: /content/drive/MyDrive/jazzSTLM/midi/ItsOnlyAPaperMoon.mid\n",
            "Loading Music File: /content/drive/MyDrive/jazzSTLM/midi/IveGotTheWorldOnAString.mid\n",
            "Loading Music File: /content/drive/MyDrive/jazzSTLM/midi/IveGotYouUnderMySkin.mid\n",
            "Loading Music File: /content/drive/MyDrive/jazzSTLM/midi/Ladyisatramp.mid\n",
            "Loading Music File: /content/drive/MyDrive/jazzSTLM/midi/Laura.mid\n",
            "Loading Music File: /content/drive/MyDrive/jazzSTLM/midi/Letmetryagain.mid\n",
            "Loading Music File: /content/drive/MyDrive/jazzSTLM/midi/LetMeTryAgain(2).mid\n",
            "Loading Music File: /content/drive/MyDrive/jazzSTLM/midi/LoveandMarriage.mid\n",
            "Loading Music File: /content/drive/MyDrive/jazzSTLM/midi/LuckBeALady.mid\n",
            "Loading Music File: /content/drive/MyDrive/jazzSTLM/midi/MakinWhoopie.mid\n",
            "Loading Music File: /content/drive/MyDrive/jazzSTLM/midi/Manhattan.mid\n",
            "Loading Music File: /content/drive/MyDrive/jazzSTLM/midi/MoonlightinVermont.mid\n",
            "Loading Music File: /content/drive/MyDrive/jazzSTLM/midi/More.mid\n",
            "Loading Music File: /content/drive/MyDrive/jazzSTLM/midi/MoreThanYouKnow.mid\n",
            "Loading Music File: /content/drive/MyDrive/jazzSTLM/midi/MyFunnyValentine.mid\n",
            "Loading Music File: /content/drive/MyDrive/jazzSTLM/midi/MyOldFlame.mid\n",
            "Loading Music File: /content/drive/MyDrive/jazzSTLM/midi/MyPrayer.mid\n",
            "Loading Music File: /content/drive/MyDrive/jazzSTLM/midi/MyWay.mid\n",
            "Loading Music File: /content/drive/MyDrive/jazzSTLM/midi/Nancy.mid\n",
            "Loading Music File: /content/drive/MyDrive/jazzSTLM/midi/NearnessOfYou.mid\n",
            "Loading Music File: /content/drive/MyDrive/jazzSTLM/midi/NewYorkNewYork.mid\n",
            "Loading Music File: /content/drive/MyDrive/jazzSTLM/midi/NicenEasy.mid\n",
            "Loading Music File: /content/drive/MyDrive/jazzSTLM/midi/NightandDay.mid\n",
            "Loading Music File: /content/drive/MyDrive/jazzSTLM/midi/OnaClearDay.mid\n",
            "Loading Music File: /content/drive/MyDrive/jazzSTLM/midi/OneForMyBaby.mid\n",
            "Loading Music File: /content/drive/MyDrive/jazzSTLM/midi/OurLoveIsHereToStay.mid\n",
            "Loading Music File: /content/drive/MyDrive/jazzSTLM/midi/PolkaDotsandMoonbeans.mid\n",
            "Loading Music File: /content/drive/MyDrive/jazzSTLM/midi/RedSailsInTheSunset.mid\n",
            "Loading Music File: /content/drive/MyDrive/jazzSTLM/midi/SalutetoNelsonRiddle.mid\n",
            "Loading Music File: /content/drive/MyDrive/jazzSTLM/midi/SeptemberSong.mid\n",
            "Loading Music File: /content/drive/MyDrive/jazzSTLM/midi/ShesFunnyThatWay.mid\n",
            "Loading Music File: /content/drive/MyDrive/jazzSTLM/midi/SmokeGetsInYourEyes.mid\n",
            "Loading Music File: /content/drive/MyDrive/jazzSTLM/midi/SomethingStupid.mid\n",
            "Loading Music File: /content/drive/MyDrive/jazzSTLM/midi/SongIsYou.mid\n",
            "Loading Music File: /content/drive/MyDrive/jazzSTLM/midi/Stardust.mid\n",
            "Loading Music File: /content/drive/MyDrive/jazzSTLM/midi/StrangersInTheNight.mid\n",
            "Loading Music File: /content/drive/MyDrive/jazzSTLM/midi/SummerWind.mid\n",
            "Loading Music File: /content/drive/MyDrive/jazzSTLM/midi/SweetGeorgia.mid\n",
            "Loading Music File: /content/drive/MyDrive/jazzSTLM/midi/ThatOldFeeling.mid\n",
            "Loading Music File: /content/drive/MyDrive/jazzSTLM/midi/ThatsLife.mid\n",
            "Loading Music File: /content/drive/MyDrive/jazzSTLM/midi/TheresaSmallHotel.mid\n",
            "Loading Music File: /content/drive/MyDrive/jazzSTLM/midi/TwoSleepyPeople.mid\n",
            "Loading Music File: /content/drive/MyDrive/jazzSTLM/midi/Unforgettable.mid\n",
            "Loading Music File: /content/drive/MyDrive/jazzSTLM/midi/WayYouLookTonight.mid\n",
            "Loading Music File: /content/drive/MyDrive/jazzSTLM/midi/WhatKindOfFoolAmI.mid\n",
            "Loading Music File: /content/drive/MyDrive/jazzSTLM/midi/WhatsNew.mid\n",
            "Loading Music File: /content/drive/MyDrive/jazzSTLM/midi/WhenYourLoverHasGone.mid\n",
            "Loading Music File: /content/drive/MyDrive/jazzSTLM/midi/WhereorWhen.mid\n"
          ]
        },
        {
          "output_type": "stream",
          "name": "stderr",
          "text": [
            "/usr/local/lib/python3.7/dist-packages/ipykernel_launcher.py:11: VisibleDeprecationWarning: Creating an ndarray from ragged nested sequences (which is a list-or-tuple of lists-or-tuples-or ndarrays with different lengths or shapes) is deprecated. If you meant to do this, you must specify 'dtype=object' when creating the ndarray\n",
            "  # This is added back by InteractiveShellApp.init_path()\n"
          ]
        }
      ]
    },
    {
      "cell_type": "code",
      "metadata": {
        "colab": {
          "base_uri": "https://localhost:8080/"
        },
        "id": "SeCI-qetz32G",
        "outputId": "8aa65a3f-1dbb-4f74-b302-2f32cfa16461"
      },
      "source": [
        "from numpy import savez_compressed\n",
        "\n",
        "filename = '/content/drive/MyDrive/jazzSTLM/jazz.npz'\n",
        "savez_compressed(filename, notes_array)\n",
        "print('Saved dataset: ', filename)"
      ],
      "execution_count": null,
      "outputs": [
        {
          "output_type": "stream",
          "name": "stdout",
          "text": [
            "Saved dataset:  /content/drive/MyDrive/jazzSTLM/jazz.npz\n"
          ]
        }
      ]
    },
    {
      "cell_type": "code",
      "metadata": {
        "colab": {
          "base_uri": "https://localhost:8080/"
        },
        "id": "rU6w3JQO0V_A",
        "outputId": "d71f33f7-9efc-4cb6-c088-101bc55616cb"
      },
      "source": [
        "notes_ = [element for note_ in notes_array for element in note_]\n",
        "\n",
        "\n",
        "unique_notes = list(set(notes_))\n",
        "print(len(unique_notes))"
      ],
      "execution_count": null,
      "outputs": [
        {
          "output_type": "stream",
          "name": "stdout",
          "text": [
            "420\n"
          ]
        }
      ]
    },
    {
      "cell_type": "code",
      "metadata": {
        "colab": {
          "base_uri": "https://localhost:8080/",
          "height": 400
        },
        "id": "hEUXyt3C0IhY",
        "outputId": "24fa0ba1-569b-49cc-8f60-a36424e608e4"
      },
      "source": [
        "from collections import Counter\n",
        "\n",
        "#computing frequency of each note\n",
        "freq = dict(Counter(notes_))\n",
        "\n",
        "#library for visualiation\n",
        "import matplotlib.pyplot as plt\n",
        "\n",
        "#consider only the frequencies\n",
        "no=[count for _,count in freq.items()]\n",
        "\n",
        "#set the figure size\n",
        "plt.figure(figsize=(5,5))\n",
        "\n",
        "#plot\n",
        "plt.hist(no)"
      ],
      "execution_count": null,
      "outputs": [
        {
          "output_type": "execute_result",
          "data": {
            "text/plain": [
              "(array([389.,  22.,   8.,   0.,   0.,   0.,   0.,   0.,   0.,   1.]),\n",
              " array([1.0000e+00, 1.8630e+02, 3.7160e+02, 5.5690e+02, 7.4220e+02,\n",
              "        9.2750e+02, 1.1128e+03, 1.2981e+03, 1.4834e+03, 1.6687e+03,\n",
              "        1.8540e+03]),\n",
              " <a list of 10 Patch objects>)"
            ]
          },
          "metadata": {},
          "execution_count": 6
        },
        {
          "output_type": "display_data",
          "data": {
            "image/png": "[encoded data removed]",
            "text/plain": [
              "<Figure size 360x360 with 1 Axes>"
            ]
          },
          "metadata": {
            "image/png": {
              "width": 319,
              "height": 302
            },
            "needs_background": "light"
          }
        }
      ]
    },
    {
      "cell_type": "code",
      "metadata": {
        "colab": {
          "base_uri": "https://localhost:8080/"
        },
        "id": "NUMumwLA0dje",
        "outputId": "c9d23d16-fcb6-4d7c-b348-6118956b09f2"
      },
      "source": [
        "frequent_notes = [note_ for note_, count in freq.items() if count>=50]\n",
        "print(len(frequent_notes))"
      ],
      "execution_count": null,
      "outputs": [
        {
          "output_type": "stream",
          "name": "stdout",
          "text": [
            "82\n"
          ]
        }
      ]
    },
    {
      "cell_type": "code",
      "metadata": {
        "colab": {
          "base_uri": "https://localhost:8080/"
        },
        "id": "e8fmYCkt0jWS",
        "outputId": "44d6c29a-4aaa-415f-c67d-e2ff2f364f2b"
      },
      "source": [
        "new_music=[]\n",
        "\n",
        "for notes in notes_array:\n",
        "    temp=[]\n",
        "    for note_ in notes:\n",
        "        if note_ in frequent_notes:\n",
        "            temp.append(note_)            \n",
        "    new_music.append(temp)\n",
        "    \n",
        "new_music = np.array(new_music)"
      ],
      "execution_count": null,
      "outputs": [
        {
          "output_type": "stream",
          "name": "stderr",
          "text": [
            "/usr/local/lib/python3.7/dist-packages/ipykernel_launcher.py:10: VisibleDeprecationWarning: Creating an ndarray from ragged nested sequences (which is a list-or-tuple of lists-or-tuples-or ndarrays with different lengths or shapes) is deprecated. If you meant to do this, you must specify 'dtype=object' when creating the ndarray\n",
            "  # Remove the CWD from sys.path while we load stuff.\n"
          ]
        }
      ]
    },
    {
      "cell_type": "code",
      "metadata": {
        "colab": {
          "base_uri": "https://localhost:8080/"
        },
        "id": "XsWmAPCA0mNH",
        "outputId": "3a909d6a-2938-4b69-a689-210c5d3bc43b"
      },
      "source": [
        "\n",
        "filename = '/content/drive/MyDrive/jazzSTLM/topfreq.npz'\n",
        "savez_compressed(filename, new_music)\n",
        "print('Saved dataset: ', filename)"
      ],
      "execution_count": null,
      "outputs": [
        {
          "output_type": "stream",
          "name": "stdout",
          "text": [
            "Saved dataset:  /content/drive/MyDrive/jazzSTLM/topfreq.npz\n"
          ]
        }
      ]
    },
    {
      "cell_type": "code",
      "metadata": {
        "id": "z-WH_yWI0zKg"
      },
      "source": [
        "no_of_timesteps = 32\n",
        "x = []\n",
        "y = []\n",
        "\n",
        "for note_ in new_music:\n",
        "    for i in range(0, len(note_) - no_of_timesteps, 1):\n",
        "        \n",
        "        #preparing input and output sequences\n",
        "        input_ = note_[i:i + no_of_timesteps]\n",
        "        output = note_[i + no_of_timesteps]\n",
        "        \n",
        "        x.append(input_)\n",
        "        y.append(output)\n",
        "        \n",
        "x=np.array(x)\n",
        "y=np.array(y)"
      ],
      "execution_count": null,
      "outputs": []
    },
    {
      "cell_type": "code",
      "metadata": {
        "id": "s003TEOr026U"
      },
      "source": [
        "unique_x = list(set(x.ravel()))\n",
        "x_note_to_int = dict((note_, number) for number, note_ in enumerate(unique_x))"
      ],
      "execution_count": null,
      "outputs": []
    },
    {
      "cell_type": "code",
      "metadata": {
        "id": "ZzqkQnaP058s"
      },
      "source": [
        "x_seq=[]\n",
        "for i in x:\n",
        "    temp=[]\n",
        "    for j in i:\n",
        "        #assigning unique integer to every note\n",
        "        temp.append(x_note_to_int[j])\n",
        "    x_seq.append(temp)\n",
        "    \n",
        "x_seq = np.array(x_seq)"
      ],
      "execution_count": null,
      "outputs": []
    },
    {
      "cell_type": "code",
      "metadata": {
        "id": "lX8MU4N40-cr"
      },
      "source": [
        "unique_y = list(set(y))\n",
        "y_note_to_int = dict((note_, number) for number, note_ in enumerate(unique_y)) \n",
        "y_seq=np.array([y_note_to_int[i] for i in y])"
      ],
      "execution_count": null,
      "outputs": []
    },
    {
      "cell_type": "code",
      "metadata": {
        "id": "oILpFI581A1C"
      },
      "source": [
        "from sklearn.model_selection import train_test_split\n",
        "x_tr, x_val, y_tr, y_val = train_test_split(x_seq,y_seq,test_size=0.2,random_state=0)"
      ],
      "execution_count": null,
      "outputs": []
    },
    {
      "cell_type": "code",
      "metadata": {
        "id": "_1FIZSYb1DTZ"
      },
      "source": [
        "def lstm():\n",
        "  model = Sequential()\n",
        "  model.add(LSTM(128,return_sequences=True))\n",
        "  model.add(LSTM(128))\n",
        "  model.add(Dense(256))\n",
        "  model.add(Activation('relu'))\n",
        "  model.add(Dense(n_vocab))\n",
        "  model.add(Activation('softmax'))\n",
        "  model.compile(loss='sparse_categorical_crossentropy', optimizer='adam')\n",
        "  return model"
      ],
      "execution_count": null,
      "outputs": []
    },
    {
      "cell_type": "code",
      "metadata": {
        "colab": {
          "base_uri": "https://localhost:8080/"
        },
        "id": "IleJH82R1EOt",
        "outputId": "57696092-c29d-483e-ffa0-538c81b6a290"
      },
      "source": [
        "from keras.layers import *\n",
        "from keras.models import *\n",
        "from keras.callbacks import *\n",
        "import keras.backend as K\n",
        "\n",
        "K.clear_session()\n",
        "model = Sequential()\n",
        "    \n",
        "#embedding layer\n",
        "model.add(Embedding(len(unique_x), 100, input_length=32,trainable=True)) \n",
        "\n",
        "model.add(Conv1D(64,3, padding='causal',activation='relu'))\n",
        "model.add(Dropout(0.2))\n",
        "model.add(MaxPool1D(2))\n",
        "    \n",
        "model.add(Conv1D(128,3,activation='relu',dilation_rate=2,padding='causal'))\n",
        "model.add(Dropout(0.2))\n",
        "model.add(MaxPool1D(2))\n",
        "\n",
        "model.add(Conv1D(256,3,activation='relu',dilation_rate=4,padding='causal'))\n",
        "model.add(Dropout(0.2))\n",
        "model.add(MaxPool1D(2))\n",
        "          \n",
        "#model.add(Conv1D(256,5,activation='relu'))    \n",
        "model.add(GlobalMaxPool1D())\n",
        "    \n",
        "model.add(Dense(256, activation='relu'))\n",
        "model.add(Dense(len(unique_y), activation='softmax'))\n",
        "    \n",
        "model.compile(loss='sparse_categorical_crossentropy', optimizer='adam')\n",
        "\n",
        "model.summary()"
      ],
      "execution_count": null,
      "outputs": [
        {
          "output_type": "stream",
          "name": "stdout",
          "text": [
            "Model: \"sequential\"\n",
            "_________________________________________________________________\n",
            "Layer (type)                 Output Shape              Param #   \n",
            "=================================================================\n",
            "embedding (Embedding)        (None, 32, 100)           8200      \n",
            "_________________________________________________________________\n",
            "conv1d (Conv1D)              (None, 32, 64)            19264     \n",
            "_________________________________________________________________\n",
            "dropout (Dropout)            (None, 32, 64)            0         \n",
            "_________________________________________________________________\n",
            "max_pooling1d (MaxPooling1D) (None, 16, 64)            0         \n",
            "_________________________________________________________________\n",
            "conv1d_1 (Conv1D)            (None, 16, 128)           24704     \n",
            "_________________________________________________________________\n",
            "dropout_1 (Dropout)          (None, 16, 128)           0         \n",
            "_________________________________________________________________\n",
            "max_pooling1d_1 (MaxPooling1 (None, 8, 128)            0         \n",
            "_________________________________________________________________\n",
            "conv1d_2 (Conv1D)            (None, 8, 256)            98560     \n",
            "_________________________________________________________________\n",
            "dropout_2 (Dropout)          (None, 8, 256)            0         \n",
            "_________________________________________________________________\n",
            "max_pooling1d_2 (MaxPooling1 (None, 4, 256)            0         \n",
            "_________________________________________________________________\n",
            "global_max_pooling1d (Global (None, 256)               0         \n",
            "_________________________________________________________________\n",
            "dense (Dense)                (None, 256)               65792     \n",
            "_________________________________________________________________\n",
            "dense_1 (Dense)              (None, 82)                21074     \n",
            "=================================================================\n",
            "Total params: 237,594\n",
            "Trainable params: 237,594\n",
            "Non-trainable params: 0\n",
            "_________________________________________________________________\n"
          ]
        }
      ]
    },
    {
      "cell_type": "code",
      "metadata": {
        "id": "bKEW_uUY1KBK"
      },
      "source": [
        "mc=ModelCheckpoint('/content/drive/MyDrive/jazzSTLM/best_model.h5', monitor='val_loss', mode='min', save_best_only=True,verbose=1)\n"
      ],
      "execution_count": null,
      "outputs": []
    },
    {
      "cell_type": "code",
      "metadata": {
        "colab": {
          "base_uri": "https://localhost:8080/",
          "height": 1000
        },
        "id": "WmLR2r0y1SuL",
        "outputId": "dd437fde-40cf-403c-b56b-2a8b4f0be24a"
      },
      "source": [
        "history = model.fit(np.array(x_tr),np.array(y_tr),batch_size=128,epochs=500, validation_data=(np.array(x_val),np.array(y_val)),verbose=1, callbacks=[mc])"
      ],
      "execution_count": null,
      "outputs": [
        {
          "output_type": "stream",
          "name": "stdout",
          "text": [
            "Epoch 1/500\n",
            "94/94 [==============================] - 8s 84ms/step - loss: 1.6634 - val_loss: 2.3465\n",
            "\n",
            "Epoch 00001: val_loss improved from inf to 2.34651, saving model to /content/drive/MyDrive/jazzSTLM/best_model.h5\n",
            "Epoch 2/500\n",
            "94/94 [==============================] - 8s 84ms/step - loss: 1.6472 - val_loss: 2.3805\n",
            "\n",
            "Epoch 00002: val_loss did not improve from 2.34651\n",
            "Epoch 3/500\n",
            "94/94 [==============================] - 8s 82ms/step - loss: 1.6250 - val_loss: 2.3397\n",
            "\n",
            "Epoch 00003: val_loss improved from 2.34651 to 2.33969, saving model to /content/drive/MyDrive/jazzSTLM/best_model.h5\n",
            "Epoch 4/500\n",
            "94/94 [==============================] - 8s 84ms/step - loss: 1.5987 - val_loss: 2.3553\n",
            "\n",
            "Epoch 00004: val_loss did not improve from 2.33969\n",
            "Epoch 5/500\n",
            "94/94 [==============================] - 8s 83ms/step - loss: 1.5999 - val_loss: 2.3565\n",
            "\n",
            "Epoch 00005: val_loss did not improve from 2.33969\n",
            "Epoch 6/500\n",
            "94/94 [==============================] - 8s 85ms/step - loss: 1.5761 - val_loss: 2.3538\n",
            "\n",
            "Epoch 00006: val_loss did not improve from 2.33969\n",
            "Epoch 7/500\n",
            "94/94 [==============================] - 8s 85ms/step - loss: 1.5527 - val_loss: 2.3455\n",
            "\n",
            "Epoch 00007: val_loss did not improve from 2.33969\n",
            "Epoch 8/500\n",
            "94/94 [==============================] - 8s 85ms/step - loss: 1.5384 - val_loss: 2.3293\n",
            "\n",
            "Epoch 00008: val_loss improved from 2.33969 to 2.32934, saving model to /content/drive/MyDrive/jazzSTLM/best_model.h5\n",
            "Epoch 9/500\n",
            "94/94 [==============================] - 8s 85ms/step - loss: 1.5203 - val_loss: 2.3588\n",
            "\n",
            "Epoch 00009: val_loss did not improve from 2.32934\n",
            "Epoch 10/500\n",
            "94/94 [==============================] - 8s 85ms/step - loss: 1.4946 - val_loss: 2.3552\n",
            "\n",
            "Epoch 00010: val_loss did not improve from 2.32934\n",
            "Epoch 11/500\n",
            "94/94 [==============================] - 8s 86ms/step - loss: 1.4920 - val_loss: 2.3435\n",
            "\n",
            "Epoch 00011: val_loss did not improve from 2.32934\n",
            "Epoch 12/500\n",
            "94/94 [==============================] - 8s 86ms/step - loss: 1.4706 - val_loss: 2.3603\n",
            "\n",
            "Epoch 00012: val_loss did not improve from 2.32934\n",
            "Epoch 13/500\n",
            "94/94 [==============================] - 8s 85ms/step - loss: 1.4526 - val_loss: 2.3622\n",
            "\n",
            "Epoch 00013: val_loss did not improve from 2.32934\n",
            "Epoch 14/500\n",
            "94/94 [==============================] - 8s 84ms/step - loss: 1.4407 - val_loss: 2.3597\n",
            "\n",
            "Epoch 00014: val_loss did not improve from 2.32934\n",
            "Epoch 15/500\n",
            "94/94 [==============================] - 8s 84ms/step - loss: 1.4265 - val_loss: 2.3800\n",
            "\n",
            "Epoch 00015: val_loss did not improve from 2.32934\n",
            "Epoch 16/500\n",
            "94/94 [==============================] - 8s 84ms/step - loss: 1.4275 - val_loss: 2.3674\n",
            "\n",
            "Epoch 00016: val_loss did not improve from 2.32934\n",
            "Epoch 17/500\n",
            "94/94 [==============================] - 8s 84ms/step - loss: 1.3975 - val_loss: 2.3786\n",
            "\n",
            "Epoch 00017: val_loss did not improve from 2.32934\n",
            "Epoch 18/500\n",
            "94/94 [==============================] - 8s 83ms/step - loss: 1.3874 - val_loss: 2.3761\n",
            "\n",
            "Epoch 00018: val_loss did not improve from 2.32934\n",
            "Epoch 19/500\n",
            "94/94 [==============================] - 8s 83ms/step - loss: 1.3619 - val_loss: 2.3847\n",
            "\n",
            "Epoch 00019: val_loss did not improve from 2.32934\n",
            "Epoch 20/500\n",
            "94/94 [==============================] - 8s 83ms/step - loss: 1.3608 - val_loss: 2.4009\n",
            "\n",
            "Epoch 00020: val_loss did not improve from 2.32934\n",
            "Epoch 21/500\n",
            "94/94 [==============================] - 8s 84ms/step - loss: 1.3444 - val_loss: 2.3901\n",
            "\n",
            "Epoch 00021: val_loss did not improve from 2.32934\n",
            "Epoch 22/500\n",
            "94/94 [==============================] - 8s 84ms/step - loss: 1.3612 - val_loss: 2.3947\n",
            "\n",
            "Epoch 00022: val_loss did not improve from 2.32934\n",
            "Epoch 23/500\n",
            "94/94 [==============================] - 8s 84ms/step - loss: 1.3301 - val_loss: 2.3715\n",
            "\n",
            "Epoch 00023: val_loss did not improve from 2.32934\n",
            "Epoch 24/500\n",
            "94/94 [==============================] - 8s 83ms/step - loss: 1.3163 - val_loss: 2.3945\n",
            "\n",
            "Epoch 00024: val_loss did not improve from 2.32934\n",
            "Epoch 25/500\n",
            "94/94 [==============================] - 8s 83ms/step - loss: 1.3216 - val_loss: 2.3910\n",
            "\n",
            "Epoch 00025: val_loss did not improve from 2.32934\n",
            "Epoch 26/500\n",
            "84/94 [=========================>....] - ETA: 0s - loss: 1.3054"
          ]
        },
        {
          "output_type": "error",
          "ename": "KeyboardInterrupt",
          "evalue": "ignored",
          "traceback": [
            "\u001b[0;31m---------------------------------------------------------------------------\u001b[0m",
            "\u001b[0;31mKeyboardInterrupt\u001b[0m                         Traceback (most recent call last)",
            "\u001b[0;32m<ipython-input-25-ea573b479c87>\u001b[0m in \u001b[0;36m<module>\u001b[0;34m()\u001b[0m\n\u001b[0;32m----> 1\u001b[0;31m \u001b[0mhistory\u001b[0m \u001b[0;34m=\u001b[0m \u001b[0mmodel\u001b[0m\u001b[0;34m.\u001b[0m\u001b[0mfit\u001b[0m\u001b[0;34m(\u001b[0m\u001b[0mnp\u001b[0m\u001b[0;34m.\u001b[0m\u001b[0marray\u001b[0m\u001b[0;34m(\u001b[0m\u001b[0mx_tr\u001b[0m\u001b[0;34m)\u001b[0m\u001b[0;34m,\u001b[0m\u001b[0mnp\u001b[0m\u001b[0;34m.\u001b[0m\u001b[0marray\u001b[0m\u001b[0;34m(\u001b[0m\u001b[0my_tr\u001b[0m\u001b[0;34m)\u001b[0m\u001b[0;34m,\u001b[0m\u001b[0mbatch_size\u001b[0m\u001b[0;34m=\u001b[0m\u001b[0;36m128\u001b[0m\u001b[0;34m,\u001b[0m\u001b[0mepochs\u001b[0m\u001b[0;34m=\u001b[0m\u001b[0;36m500\u001b[0m\u001b[0;34m,\u001b[0m \u001b[0mvalidation_data\u001b[0m\u001b[0;34m=\u001b[0m\u001b[0;34m(\u001b[0m\u001b[0mnp\u001b[0m\u001b[0;34m.\u001b[0m\u001b[0marray\u001b[0m\u001b[0;34m(\u001b[0m\u001b[0mx_val\u001b[0m\u001b[0;34m)\u001b[0m\u001b[0;34m,\u001b[0m\u001b[0mnp\u001b[0m\u001b[0;34m.\u001b[0m\u001b[0marray\u001b[0m\u001b[0;34m(\u001b[0m\u001b[0my_val\u001b[0m\u001b[0;34m)\u001b[0m\u001b[0;34m)\u001b[0m\u001b[0;34m,\u001b[0m\u001b[0mverbose\u001b[0m\u001b[0;34m=\u001b[0m\u001b[0;36m1\u001b[0m\u001b[0;34m,\u001b[0m \u001b[0mcallbacks\u001b[0m\u001b[0;34m=\u001b[0m\u001b[0;34m[\u001b[0m\u001b[0mmc\u001b[0m\u001b[0;34m]\u001b[0m\u001b[0;34m)\u001b[0m\u001b[0;34m\u001b[0m\u001b[0;34m\u001b[0m\u001b[0m\n\u001b[0m",
            "\u001b[0;32m/usr/local/lib/python3.7/dist-packages/keras/engine/training.py\u001b[0m in \u001b[0;36mfit\u001b[0;34m(self, x, y, batch_size, epochs, verbose, callbacks, validation_split, validation_data, shuffle, class_weight, sample_weight, initial_epoch, steps_per_epoch, validation_steps, validation_batch_size, validation_freq, max_queue_size, workers, use_multiprocessing)\u001b[0m\n\u001b[1;32m   1182\u001b[0m                 _r=1):\n\u001b[1;32m   1183\u001b[0m               \u001b[0mcallbacks\u001b[0m\u001b[0;34m.\u001b[0m\u001b[0mon_train_batch_begin\u001b[0m\u001b[0;34m(\u001b[0m\u001b[0mstep\u001b[0m\u001b[0;34m)\u001b[0m\u001b[0;34m\u001b[0m\u001b[0;34m\u001b[0m\u001b[0m\n\u001b[0;32m-> 1184\u001b[0;31m               \u001b[0mtmp_logs\u001b[0m \u001b[0;34m=\u001b[0m \u001b[0mself\u001b[0m\u001b[0;34m.\u001b[0m\u001b[0mtrain_function\u001b[0m\u001b[0;34m(\u001b[0m\u001b[0miterator\u001b[0m\u001b[0;34m)\u001b[0m\u001b[0;34m\u001b[0m\u001b[0;34m\u001b[0m\u001b[0m\n\u001b[0m\u001b[1;32m   1185\u001b[0m               \u001b[0;32mif\u001b[0m \u001b[0mdata_handler\u001b[0m\u001b[0;34m.\u001b[0m\u001b[0mshould_sync\u001b[0m\u001b[0;34m:\u001b[0m\u001b[0;34m\u001b[0m\u001b[0;34m\u001b[0m\u001b[0m\n\u001b[1;32m   1186\u001b[0m                 \u001b[0mcontext\u001b[0m\u001b[0;34m.\u001b[0m\u001b[0masync_wait\u001b[0m\u001b[0;34m(\u001b[0m\u001b[0;34m)\u001b[0m\u001b[0;34m\u001b[0m\u001b[0;34m\u001b[0m\u001b[0m\n",
            "\u001b[0;32m/usr/local/lib/python3.7/dist-packages/tensorflow/python/eager/def_function.py\u001b[0m in \u001b[0;36m__call__\u001b[0;34m(self, *args, **kwds)\u001b[0m\n\u001b[1;32m    883\u001b[0m \u001b[0;34m\u001b[0m\u001b[0m\n\u001b[1;32m    884\u001b[0m       \u001b[0;32mwith\u001b[0m \u001b[0mOptionalXlaContext\u001b[0m\u001b[0;34m(\u001b[0m\u001b[0mself\u001b[0m\u001b[0;34m.\u001b[0m\u001b[0m_jit_compile\u001b[0m\u001b[0;34m)\u001b[0m\u001b[0;34m:\u001b[0m\u001b[0;34m\u001b[0m\u001b[0;34m\u001b[0m\u001b[0m\n\u001b[0;32m--> 885\u001b[0;31m         \u001b[0mresult\u001b[0m \u001b[0;34m=\u001b[0m \u001b[0mself\u001b[0m\u001b[0;34m.\u001b[0m\u001b[0m_call\u001b[0m\u001b[0;34m(\u001b[0m\u001b[0;34m*\u001b[0m\u001b[0margs\u001b[0m\u001b[0;34m,\u001b[0m \u001b[0;34m**\u001b[0m\u001b[0mkwds\u001b[0m\u001b[0;34m)\u001b[0m\u001b[0;34m\u001b[0m\u001b[0;34m\u001b[0m\u001b[0m\n\u001b[0m\u001b[1;32m    886\u001b[0m \u001b[0;34m\u001b[0m\u001b[0m\n\u001b[1;32m    887\u001b[0m       \u001b[0mnew_tracing_count\u001b[0m \u001b[0;34m=\u001b[0m \u001b[0mself\u001b[0m\u001b[0;34m.\u001b[0m\u001b[0mexperimental_get_tracing_count\u001b[0m\u001b[0;34m(\u001b[0m\u001b[0;34m)\u001b[0m\u001b[0;34m\u001b[0m\u001b[0;34m\u001b[0m\u001b[0m\n",
            "\u001b[0;32m/usr/local/lib/python3.7/dist-packages/tensorflow/python/eager/def_function.py\u001b[0m in \u001b[0;36m_call\u001b[0;34m(self, *args, **kwds)\u001b[0m\n\u001b[1;32m    922\u001b[0m       \u001b[0;31m# In this case we have not created variables on the first call. So we can\u001b[0m\u001b[0;34m\u001b[0m\u001b[0;34m\u001b[0m\u001b[0;34m\u001b[0m\u001b[0m\n\u001b[1;32m    923\u001b[0m       \u001b[0;31m# run the first trace but we should fail if variables are created.\u001b[0m\u001b[0;34m\u001b[0m\u001b[0;34m\u001b[0m\u001b[0;34m\u001b[0m\u001b[0m\n\u001b[0;32m--> 924\u001b[0;31m       \u001b[0mresults\u001b[0m \u001b[0;34m=\u001b[0m \u001b[0mself\u001b[0m\u001b[0;34m.\u001b[0m\u001b[0m_stateful_fn\u001b[0m\u001b[0;34m(\u001b[0m\u001b[0;34m*\u001b[0m\u001b[0margs\u001b[0m\u001b[0;34m,\u001b[0m \u001b[0;34m**\u001b[0m\u001b[0mkwds\u001b[0m\u001b[0;34m)\u001b[0m\u001b[0;34m\u001b[0m\u001b[0;34m\u001b[0m\u001b[0m\n\u001b[0m\u001b[1;32m    925\u001b[0m       \u001b[0;32mif\u001b[0m \u001b[0mself\u001b[0m\u001b[0;34m.\u001b[0m\u001b[0m_created_variables\u001b[0m \u001b[0;32mand\u001b[0m \u001b[0;32mnot\u001b[0m \u001b[0mALLOW_DYNAMIC_VARIABLE_CREATION\u001b[0m\u001b[0;34m:\u001b[0m\u001b[0;34m\u001b[0m\u001b[0;34m\u001b[0m\u001b[0m\n\u001b[1;32m    926\u001b[0m         raise ValueError(\"Creating variables on a non-first call to a function\"\n",
            "\u001b[0;32m/usr/local/lib/python3.7/dist-packages/tensorflow/python/eager/function.py\u001b[0m in \u001b[0;36m__call__\u001b[0;34m(self, *args, **kwargs)\u001b[0m\n\u001b[1;32m   3038\u001b[0m        filtered_flat_args) = self._maybe_define_function(args, kwargs)\n\u001b[1;32m   3039\u001b[0m     return graph_function._call_flat(\n\u001b[0;32m-> 3040\u001b[0;31m         filtered_flat_args, captured_inputs=graph_function.captured_inputs)  # pylint: disable=protected-access\n\u001b[0m\u001b[1;32m   3041\u001b[0m \u001b[0;34m\u001b[0m\u001b[0m\n\u001b[1;32m   3042\u001b[0m   \u001b[0;34m@\u001b[0m\u001b[0mproperty\u001b[0m\u001b[0;34m\u001b[0m\u001b[0;34m\u001b[0m\u001b[0m\n",
            "\u001b[0;32m/usr/local/lib/python3.7/dist-packages/tensorflow/python/eager/function.py\u001b[0m in \u001b[0;36m_call_flat\u001b[0;34m(self, args, captured_inputs, cancellation_manager)\u001b[0m\n\u001b[1;32m   1962\u001b[0m       \u001b[0;31m# No tape is watching; skip to running the function.\u001b[0m\u001b[0;34m\u001b[0m\u001b[0;34m\u001b[0m\u001b[0;34m\u001b[0m\u001b[0m\n\u001b[1;32m   1963\u001b[0m       return self._build_call_outputs(self._inference_function.call(\n\u001b[0;32m-> 1964\u001b[0;31m           ctx, args, cancellation_manager=cancellation_manager))\n\u001b[0m\u001b[1;32m   1965\u001b[0m     forward_backward = self._select_forward_and_backward_functions(\n\u001b[1;32m   1966\u001b[0m         \u001b[0margs\u001b[0m\u001b[0;34m,\u001b[0m\u001b[0;34m\u001b[0m\u001b[0;34m\u001b[0m\u001b[0m\n",
            "\u001b[0;32m/usr/local/lib/python3.7/dist-packages/tensorflow/python/eager/function.py\u001b[0m in \u001b[0;36mcall\u001b[0;34m(self, ctx, args, cancellation_manager)\u001b[0m\n\u001b[1;32m    594\u001b[0m               \u001b[0minputs\u001b[0m\u001b[0;34m=\u001b[0m\u001b[0margs\u001b[0m\u001b[0;34m,\u001b[0m\u001b[0;34m\u001b[0m\u001b[0;34m\u001b[0m\u001b[0m\n\u001b[1;32m    595\u001b[0m               \u001b[0mattrs\u001b[0m\u001b[0;34m=\u001b[0m\u001b[0mattrs\u001b[0m\u001b[0;34m,\u001b[0m\u001b[0;34m\u001b[0m\u001b[0;34m\u001b[0m\u001b[0m\n\u001b[0;32m--> 596\u001b[0;31m               ctx=ctx)\n\u001b[0m\u001b[1;32m    597\u001b[0m         \u001b[0;32melse\u001b[0m\u001b[0;34m:\u001b[0m\u001b[0;34m\u001b[0m\u001b[0;34m\u001b[0m\u001b[0m\n\u001b[1;32m    598\u001b[0m           outputs = execute.execute_with_cancellation(\n",
            "\u001b[0;32m/usr/local/lib/python3.7/dist-packages/tensorflow/python/eager/execute.py\u001b[0m in \u001b[0;36mquick_execute\u001b[0;34m(op_name, num_outputs, inputs, attrs, ctx, name)\u001b[0m\n\u001b[1;32m     58\u001b[0m     \u001b[0mctx\u001b[0m\u001b[0;34m.\u001b[0m\u001b[0mensure_initialized\u001b[0m\u001b[0;34m(\u001b[0m\u001b[0;34m)\u001b[0m\u001b[0;34m\u001b[0m\u001b[0;34m\u001b[0m\u001b[0m\n\u001b[1;32m     59\u001b[0m     tensors = pywrap_tfe.TFE_Py_Execute(ctx._handle, device_name, op_name,\n\u001b[0;32m---> 60\u001b[0;31m                                         inputs, attrs, num_outputs)\n\u001b[0m\u001b[1;32m     61\u001b[0m   \u001b[0;32mexcept\u001b[0m \u001b[0mcore\u001b[0m\u001b[0;34m.\u001b[0m\u001b[0m_NotOkStatusException\u001b[0m \u001b[0;32mas\u001b[0m \u001b[0me\u001b[0m\u001b[0;34m:\u001b[0m\u001b[0;34m\u001b[0m\u001b[0;34m\u001b[0m\u001b[0m\n\u001b[1;32m     62\u001b[0m     \u001b[0;32mif\u001b[0m \u001b[0mname\u001b[0m \u001b[0;32mis\u001b[0m \u001b[0;32mnot\u001b[0m \u001b[0;32mNone\u001b[0m\u001b[0;34m:\u001b[0m\u001b[0;34m\u001b[0m\u001b[0;34m\u001b[0m\u001b[0m\n",
            "\u001b[0;31mKeyboardInterrupt\u001b[0m: "
          ]
        }
      ]
    },
    {
      "cell_type": "code",
      "metadata": {
        "id": "ibayW8OB1Xb4"
      },
      "source": [
        "from keras.models import load_model\n",
        "model = load_model('/content/drive/MyDrive/jazzSTLM/best_model.h5')"
      ],
      "execution_count": null,
      "outputs": []
    },
    {
      "cell_type": "code",
      "metadata": {
        "colab": {
          "base_uri": "https://localhost:8080/"
        },
        "id": "64sXS8Yy1aiH",
        "outputId": "f6a0a2c0-b245-4c16-f98e-d0ea84d28860"
      },
      "source": [
        "import random\n",
        "\n",
        "ind = np.random.randint(0,len(x_val)-1)\n",
        "\n",
        "random_music = x_val[ind]\n",
        "\n",
        "predictions=[]\n",
        "for i in range(100):\n",
        "\n",
        "    random_music = random_music.reshape(1,no_of_timesteps)\n",
        "\n",
        "    prob  = model.predict(random_music)[0]\n",
        "    y_pred= np.argmax(prob,axis=0)\n",
        "    predictions.append(y_pred)\n",
        "\n",
        "    random_music = np.insert(random_music[0],len(random_music[0]),y_pred)\n",
        "    random_music = random_music[1:]\n",
        "    \n",
        "print(len(predictions))\n",
        "print(predictions)"
      ],
      "execution_count": null,
      "outputs": [
        {
          "output_type": "stream",
          "name": "stdout",
          "text": [
            "100\n",
            "[35, 35, 53, 35, 28, 28, 35, 35, 35, 53, 35, 35, 48, 35, 35, 35, 53, 35, 28, 28, 35, 35, 35, 0, 35, 35, 20, 18, 35, 35, 35, 35, 35, 28, 35, 35, 35, 0, 35, 35, 35, 35, 35, 35, 35, 35, 35, 28, 28, 35, 35, 35, 35, 35, 35, 35, 35, 35, 35, 35, 35, 28, 28, 35, 35, 35, 35, 35, 35, 35, 35, 35, 35, 35, 35, 35, 28, 28, 35, 35, 35, 35, 35, 35, 35, 35, 35, 35, 35, 35, 28, 28, 35, 35, 35, 35, 35, 35, 35, 35]\n"
          ]
        }
      ]
    },
    {
      "cell_type": "code",
      "metadata": {
        "id": "VAee1Vvo1dI9"
      },
      "source": [
        "x_int_to_note = dict((number, note_) for number, note_ in enumerate(unique_x)) \n",
        "predicted_notes = [x_int_to_note[i] for i in predictions]"
      ],
      "execution_count": null,
      "outputs": []
    },
    {
      "cell_type": "code",
      "metadata": {
        "id": "zewxxlIF1d6Q"
      },
      "source": [
        "def convert_to_midi(prediction_output):\n",
        "   \n",
        "    offset = 0\n",
        "    output_notes = []\n",
        "\n",
        "    # create note and chord objects based on the values generated by the model\n",
        "    for pattern in prediction_output:\n",
        "        \n",
        "        # pattern is a chord\n",
        "        if ('.' in pattern) or pattern.isdigit():\n",
        "            notes_in_chord = pattern.split('.')\n",
        "            notes = []\n",
        "            for current_note in notes_in_chord:\n",
        "                \n",
        "                cn=int(current_note)\n",
        "                new_note = note.Note(cn)\n",
        "                new_note.storedInstrument = instrument.Piano()\n",
        "                notes.append(new_note)\n",
        "                \n",
        "            new_chord = chord.Chord(notes)\n",
        "            new_chord.offset = offset\n",
        "            output_notes.append(new_chord)\n",
        "            \n",
        "        # pattern is a note\n",
        "        else:\n",
        "            \n",
        "            new_note = note.Note(pattern)\n",
        "            new_note.offset = offset\n",
        "            new_note.storedInstrument = instrument.Piano()\n",
        "            output_notes.append(new_note)\n",
        "\n",
        "        # increase offset each iteration so that notes do not stack\n",
        "        offset += 1\n",
        "    midi_stream = stream.Stream(output_notes)\n",
        "    midi_stream.write('midi', fp='music.mid')"
      ],
      "execution_count": null,
      "outputs": []
    },
    {
      "cell_type": "code",
      "metadata": {
        "id": "VGtXmdUO1lRQ"
      },
      "source": [
        "convert_to_midi(predicted_notes)"
      ],
      "execution_count": null,
      "outputs": []
    }
  ]
}